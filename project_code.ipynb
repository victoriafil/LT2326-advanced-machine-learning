{
 "cells": [
  {
   "cell_type": "code",
   "execution_count": 1,
   "id": "4a8e3645-759a-465f-b288-c72734be4b3e",
   "metadata": {},
   "outputs": [
    {
     "name": "stderr",
     "output_type": "stream",
     "text": [
      "2023-11-30 18:39:17.098104: I tensorflow/core/platform/cpu_feature_guard.cc:182] This TensorFlow binary is optimized to use available CPU instructions in performance-critical operations.\n",
      "To enable the following instructions: AVX2 FMA, in other operations, rebuild TensorFlow with the appropriate compiler flags.\n"
     ]
    }
   ],
   "source": [
    "import torch\n",
    "import torch.nn as nn\n",
    "from torch.utils.data import Dataset, DataLoader, RandomSampler\n",
    "from torch.optim import AdamW\n",
    "\n",
    "from torch.utils.data import Subset, DataLoader\n",
    "from sklearn.model_selection import train_test_split\n",
    "from transformers import GPT2LMHeadModel, GPT2Tokenizer, GPT2Config, get_linear_schedule_with_warmup\n",
    "\n",
    "import os, csv\n",
    "import pandas as pd\n",
    "\n",
    "from sklearn import preprocessing \n",
    "from sklearn.preprocessing import LabelEncoder\n",
    "\n",
    "#model hyperparameters\n",
    "device = torch.device('cuda:2')\n",
    "learning_rate = 1e-4\n",
    "eps = 1e-8\n",
    "warmup_steps = 50\n",
    "\n",
    "max_len = 512\n",
    "\n",
    "batch_size = 4\n",
    "epochs = 40"
   ]
  },
  {
   "cell_type": "code",
   "execution_count": 2,
   "id": "d80599a5-2152-4bba-b916-8e694a2e8861",
   "metadata": {},
   "outputs": [
    {
     "name": "stdout",
     "output_type": "stream",
     "text": [
      "1854\n"
     ]
    }
   ],
   "source": [
    "path1 = \"archive/topics\"\n",
    "path2 = \"archive/forms\"\n",
    "\n",
    "def remove_ending(text):\n",
    "    lines = text.split('\\n')\n",
    "    filtered_lines = [line for line in lines if not line.strip().startswith((\"Copyright\", \"©\", \"copyright\"))]\n",
    "    cleaned_text = '\\n'.join(filtered_lines)\n",
    "    return cleaned_text\n",
    "\n",
    "def find_topics_forms(path, name):\n",
    "    list_of_dict_of_poems = []\n",
    "    for root, _, files in os.walk(path):\n",
    "        for text in files:\n",
    "            fullpath = root + \"/\" + text\n",
    "            topic_or_form = os.path.basename(root)\n",
    "            with open(fullpath, \"r\") as myfile:\n",
    "                poem = myfile.read()\n",
    "                poem = remove_ending(poem)\n",
    "                #poem = poem.replace(\"\\n\", \" <newline> \")\n",
    "                title = text\n",
    "                dictionary = {\"title\" : title , \"poem\" : poem, name : topic_or_form}\n",
    "                list_of_dict_of_poems.append(dictionary)\n",
    "    \n",
    "    return list_of_dict_of_poems\n",
    "\n",
    "poem_topic_dictionary = find_topics_forms(path1, \"topic\")\n",
    "poem_form_dictionary = find_topics_forms(path2, \"form\")\n",
    "print(len(poem_topic_dictionary))"
   ]
  },
  {
   "cell_type": "code",
   "execution_count": 3,
   "id": "c8f6f552-d0f4-412e-807f-0ff7471eb82b",
   "metadata": {},
   "outputs": [],
   "source": [
    "def create_data_table(dictionary, name):\n",
    "    column_names=[\"title\",\"poem\", name]\n",
    "    \n",
    "    df = pd.DataFrame(dictionary, columns=column_names)\n",
    "    filepath = name + \"s_dataset.csv\"\n",
    "    file = df.to_csv(filepath, index=False)\n",
    "    read_file = pd.read_csv(filepath)\n",
    "\n",
    "def compare_tables(forms, topics):\n",
    "    forms_f = pd.read_csv(forms)\n",
    "    topics_f = pd.read_csv(topics)\n",
    "    poems_in_forms = forms_f['poem'].tolist()\n",
    "    poems_in_topics = topics_f['poem'].tolist()\n",
    "    for poem in poems_in_forms:\n",
    "        if poem in topics_f['poem'].values:\n",
    "            topic_value = topics_f[topics_f['poem'] == poem]['topic'].values[0]\n",
    "            forms_f.loc[forms_f['poem'] == poem, 'topic'] = topic_value\n",
    "    poems_to_add = [poem for poem in poems_in_topics if poem not in poems_in_forms]\n",
    "    rows_to_add = topics_f[topics_f['poem'].isin(poems_to_add)]\n",
    "    merged_df = pd.concat([forms_f, rows_to_add], ignore_index=True)\n",
    "    merged_df.to_csv('merged_dataset.csv', index=False)\n",
    "\n",
    "create_data_table(poem_form_dictionary, \"form\")\n",
    "create_data_table(poem_topic_dictionary, \"topic\")\n",
    "compare_tables('forms_dataset.csv', 'topics_dataset.csv')"
   ]
  },
  {
   "cell_type": "code",
   "execution_count": 4,
   "id": "90474f6c-38db-4826-a42d-e71d07b6c7ae",
   "metadata": {},
   "outputs": [
    {
     "data": {
      "text/html": [
       "<div>\n",
       "<style scoped>\n",
       "    .dataframe tbody tr th:only-of-type {\n",
       "        vertical-align: middle;\n",
       "    }\n",
       "\n",
       "    .dataframe tbody tr th {\n",
       "        vertical-align: top;\n",
       "    }\n",
       "\n",
       "    .dataframe thead th {\n",
       "        text-align: right;\n",
       "    }\n",
       "</style>\n",
       "<table border=\"1\" class=\"dataframe\">\n",
       "  <thead>\n",
       "    <tr style=\"text-align: right;\">\n",
       "      <th></th>\n",
       "      <th>title</th>\n",
       "      <th>poem</th>\n",
       "      <th>topic</th>\n",
       "    </tr>\n",
       "  </thead>\n",
       "  <tbody>\n",
       "    <tr>\n",
       "      <th>0</th>\n",
       "      <td>AlonePoems06HaikuAlonePoembyjohntiongchunghoo.txt</td>\n",
       "      <td>loneliness\\nhis childhood\\nwarms him up\\nlonel...</td>\n",
       "      <td>alone</td>\n",
       "    </tr>\n",
       "    <tr>\n",
       "      <th>1</th>\n",
       "      <td>AlonePoems1999AlonePoembyDeanaRode.txt</td>\n",
       "      <td>Sit in a chair\\nalone\\nPeople I thought were\\n...</td>\n",
       "      <td>alone</td>\n",
       "    </tr>\n",
       "    <tr>\n",
       "      <th>2</th>\n",
       "      <td>AlonePoems2006AlonePoembyDeanaRode.txt</td>\n",
       "      <td>Tell me why it has to be this way\\nwhy I must ...</td>\n",
       "      <td>alone</td>\n",
       "    </tr>\n",
       "    <tr>\n",
       "      <th>3</th>\n",
       "      <td>AlonePoemsADebtorToMercyAlonePoembyAugustusMon...</td>\n",
       "      <td>A debtor to mercy alone, of covenant mercy I s...</td>\n",
       "      <td>alone</td>\n",
       "    </tr>\n",
       "    <tr>\n",
       "      <th>4</th>\n",
       "      <td>AlonePoemsAgainLeftAlonePoembyRaviSathasivam.txt</td>\n",
       "      <td>A year has been passed since I left home\\nAgai...</td>\n",
       "      <td>alone</td>\n",
       "    </tr>\n",
       "    <tr>\n",
       "      <th>...</th>\n",
       "      <td>...</td>\n",
       "      <td>...</td>\n",
       "      <td>...</td>\n",
       "    </tr>\n",
       "    <tr>\n",
       "      <th>1849</th>\n",
       "      <td>ChildrenPoemsMyShadowChildrenPoembyCJHeck.txt</td>\n",
       "      <td>I have a shadow hooked to me.\\nSometimes he's ...</td>\n",
       "      <td>children</td>\n",
       "    </tr>\n",
       "    <tr>\n",
       "      <th>1850</th>\n",
       "      <td>ChildrenPoemsMyToothChildrenPoembyCJHeck.txt</td>\n",
       "      <td>The toothfairy took my tooth lath night\\nand l...</td>\n",
       "      <td>children</td>\n",
       "    </tr>\n",
       "    <tr>\n",
       "      <th>1851</th>\n",
       "      <td>ChildrenPoemsNightNightChildrenPoembyCJHeck.txt</td>\n",
       "      <td>Night-night moon\\nNight-night stars\\nNight-nig...</td>\n",
       "      <td>children</td>\n",
       "    </tr>\n",
       "    <tr>\n",
       "      <th>1852</th>\n",
       "      <td>ChildrenPoemsOdeToBeingFiveChildrenPoembyCJHec...</td>\n",
       "      <td>I made a paper Valentine\\nall red and edged wi...</td>\n",
       "      <td>children</td>\n",
       "    </tr>\n",
       "    <tr>\n",
       "      <th>1853</th>\n",
       "      <td>RomancePoemsTranceOfRomancePoembynimaldunuhing...</td>\n",
       "      <td>A sapling in a severe drought\\nwhat she needs ...</td>\n",
       "      <td>romance</td>\n",
       "    </tr>\n",
       "  </tbody>\n",
       "</table>\n",
       "<p>1854 rows × 3 columns</p>\n",
       "</div>"
      ],
      "text/plain": [
       "                                                  title  \\\n",
       "0     AlonePoems06HaikuAlonePoembyjohntiongchunghoo.txt   \n",
       "1                AlonePoems1999AlonePoembyDeanaRode.txt   \n",
       "2                AlonePoems2006AlonePoembyDeanaRode.txt   \n",
       "3     AlonePoemsADebtorToMercyAlonePoembyAugustusMon...   \n",
       "4      AlonePoemsAgainLeftAlonePoembyRaviSathasivam.txt   \n",
       "...                                                 ...   \n",
       "1849      ChildrenPoemsMyShadowChildrenPoembyCJHeck.txt   \n",
       "1850       ChildrenPoemsMyToothChildrenPoembyCJHeck.txt   \n",
       "1851    ChildrenPoemsNightNightChildrenPoembyCJHeck.txt   \n",
       "1852  ChildrenPoemsOdeToBeingFiveChildrenPoembyCJHec...   \n",
       "1853  RomancePoemsTranceOfRomancePoembynimaldunuhing...   \n",
       "\n",
       "                                                   poem     topic  \n",
       "0     loneliness\\nhis childhood\\nwarms him up\\nlonel...     alone  \n",
       "1     Sit in a chair\\nalone\\nPeople I thought were\\n...     alone  \n",
       "2     Tell me why it has to be this way\\nwhy I must ...     alone  \n",
       "3     A debtor to mercy alone, of covenant mercy I s...     alone  \n",
       "4     A year has been passed since I left home\\nAgai...     alone  \n",
       "...                                                 ...       ...  \n",
       "1849  I have a shadow hooked to me.\\nSometimes he's ...  children  \n",
       "1850  The toothfairy took my tooth lath night\\nand l...  children  \n",
       "1851  Night-night moon\\nNight-night stars\\nNight-nig...  children  \n",
       "1852  I made a paper Valentine\\nall red and edged wi...  children  \n",
       "1853  A sapling in a severe drought\\nwhat she needs ...   romance  \n",
       "\n",
       "[1854 rows x 3 columns]"
      ]
     },
     "execution_count": 4,
     "metadata": {},
     "output_type": "execute_result"
    }
   ],
   "source": [
    "df = pd.read_csv(\"topics_dataset.csv\")\n",
    "df"
   ]
  },
  {
   "cell_type": "code",
   "execution_count": 5,
   "id": "65956178-b8db-4ec0-bf1b-e7eca6299556",
   "metadata": {},
   "outputs": [],
   "source": [
    "def split_dataset(data_dictionary):\n",
    "    \n",
    "    df = pd.DataFrame(data_dictionary)\n",
    "    filename = \"dataset.csv\"\n",
    "    file = df.to_csv(filename, index=False)\n",
    "    read_filename = pd.read_csv(filename)\n",
    "\n",
    "    \n",
    "    print(\"total poems:\",len(read_filename))\n",
    "    randomized_data = read_filename.sample(frac=1, random_state=42)\n",
    "    print(\"total randomized poems:\",len(randomized_data))\n",
    "\n",
    "    train = int(len(randomized_data) * 0.8)\n",
    "\n",
    "    train_data = randomized_data[:train]\n",
    "    print(\"total training set:\",len(train_data))\n",
    "\n",
    "    test_data = randomized_data[train:]\n",
    "    print(\"total testing set:\",len(test_data))\n",
    "\n",
    "    train_filepath = \"train_dataset.csv\"\n",
    "    test_filepath = \"test_dataset.csv\"\n",
    "    train_data.to_csv(train_filepath, index=False)\n",
    "    test_data.to_csv(test_filepath, index=False)"
   ]
  },
  {
   "cell_type": "code",
   "execution_count": 6,
   "id": "110e8b92-3505-4b1f-8d76-e5d77d5b5cd5",
   "metadata": {},
   "outputs": [
    {
     "name": "stdout",
     "output_type": "stream",
     "text": [
      "total poems: 1854\n",
      "total randomized poems: 1854\n",
      "total training set: 1483\n",
      "total testing set: 371\n"
     ]
    }
   ],
   "source": [
    "split_dataset(data_dictionary=poem_topic_dictionary)\n",
    "\n",
    "df = pd.read_csv(\"train_dataset.csv\")"
   ]
  },
  {
   "cell_type": "code",
   "execution_count": 7,
   "id": "e31a7ab3-c699-4f21-91f8-b4598960ecb6",
   "metadata": {},
   "outputs": [
    {
     "data": {
      "text/html": [
       "<div>\n",
       "<style scoped>\n",
       "    .dataframe tbody tr th:only-of-type {\n",
       "        vertical-align: middle;\n",
       "    }\n",
       "\n",
       "    .dataframe tbody tr th {\n",
       "        vertical-align: top;\n",
       "    }\n",
       "\n",
       "    .dataframe thead th {\n",
       "        text-align: right;\n",
       "    }\n",
       "</style>\n",
       "<table border=\"1\" class=\"dataframe\">\n",
       "  <thead>\n",
       "    <tr style=\"text-align: right;\">\n",
       "      <th></th>\n",
       "      <th>title</th>\n",
       "      <th>poem</th>\n",
       "      <th>topic</th>\n",
       "    </tr>\n",
       "  </thead>\n",
       "  <tbody>\n",
       "    <tr>\n",
       "      <th>0</th>\n",
       "      <td>AngelPoemsBoyAndTheAngelThePoembyRobertBrownin...</td>\n",
       "      <td>Morning, evening, noon and night,\\n``Praise Go...</td>\n",
       "      <td>angel</td>\n",
       "    </tr>\n",
       "    <tr>\n",
       "      <th>1</th>\n",
       "      <td>AnimalPoemsEarthlyAnimalPoembyHasmukhAmathalal...</td>\n",
       "      <td>It is beautiful wish\\nThat finishes\\nWith welf...</td>\n",
       "      <td>animal</td>\n",
       "    </tr>\n",
       "    <tr>\n",
       "      <th>2</th>\n",
       "      <td>ButterflyPoemsButterflyPoembyMaryWismer.txt</td>\n",
       "      <td>Went down to the garden\\nand see a Caterppilar...</td>\n",
       "      <td>butterfly</td>\n",
       "    </tr>\n",
       "    <tr>\n",
       "      <th>3</th>\n",
       "      <td>ChildhoodPoemsAChildhoodFriendComesVisitingHai...</td>\n",
       "      <td>Hear someone giggle,\\nPeer out, there is no on...</td>\n",
       "      <td>childhood</td>\n",
       "    </tr>\n",
       "    <tr>\n",
       "      <th>4</th>\n",
       "      <td>AnimalPoemsAnimalCrackersPoembyChristineKerr.txt</td>\n",
       "      <td>Can you enjoy a meal,\\nIf it ain't your Cat.\\n...</td>\n",
       "      <td>animal</td>\n",
       "    </tr>\n",
       "    <tr>\n",
       "      <th>...</th>\n",
       "      <td>...</td>\n",
       "      <td>...</td>\n",
       "      <td>...</td>\n",
       "    </tr>\n",
       "    <tr>\n",
       "      <th>1478</th>\n",
       "      <td>AlonePoemsAloneICannotBePoembyEmilyDickinson.txt</td>\n",
       "      <td>298\\nAlone, I cannot be—\\nFor Hosts—do visit m...</td>\n",
       "      <td>alone</td>\n",
       "    </tr>\n",
       "    <tr>\n",
       "      <th>1479</th>\n",
       "      <td>BirthPoemsSonnetOnTheMorningOfChristsBirthPoem...</td>\n",
       "      <td>This starry dawn – the wise men yet afar –\\nth...</td>\n",
       "      <td>birth</td>\n",
       "    </tr>\n",
       "    <tr>\n",
       "      <th>1480</th>\n",
       "      <td>ChildrenPoemsGladChildrenPoembyCJHeck.txt</td>\n",
       "      <td>Being glad is simple\\nand sometimes glad is gr...</td>\n",
       "      <td>children</td>\n",
       "    </tr>\n",
       "    <tr>\n",
       "      <th>1481</th>\n",
       "      <td>BabyPoemsCarolineJustTheirBabyGirlPoembyScarle...</td>\n",
       "      <td>hello world\\nyou may not know me\\nbut I know y...</td>\n",
       "      <td>baby</td>\n",
       "    </tr>\n",
       "    <tr>\n",
       "      <th>1482</th>\n",
       "      <td>BeachPoemsMotherAtTheBeach1939PoembyMaxReif.txt</td>\n",
       "      <td>When Mother was a young girl,\\nwhat would she ...</td>\n",
       "      <td>beach</td>\n",
       "    </tr>\n",
       "  </tbody>\n",
       "</table>\n",
       "<p>1483 rows × 3 columns</p>\n",
       "</div>"
      ],
      "text/plain": [
       "                                                  title  \\\n",
       "0     AngelPoemsBoyAndTheAngelThePoembyRobertBrownin...   \n",
       "1     AnimalPoemsEarthlyAnimalPoembyHasmukhAmathalal...   \n",
       "2           ButterflyPoemsButterflyPoembyMaryWismer.txt   \n",
       "3     ChildhoodPoemsAChildhoodFriendComesVisitingHai...   \n",
       "4      AnimalPoemsAnimalCrackersPoembyChristineKerr.txt   \n",
       "...                                                 ...   \n",
       "1478   AlonePoemsAloneICannotBePoembyEmilyDickinson.txt   \n",
       "1479  BirthPoemsSonnetOnTheMorningOfChristsBirthPoem...   \n",
       "1480          ChildrenPoemsGladChildrenPoembyCJHeck.txt   \n",
       "1481  BabyPoemsCarolineJustTheirBabyGirlPoembyScarle...   \n",
       "1482    BeachPoemsMotherAtTheBeach1939PoembyMaxReif.txt   \n",
       "\n",
       "                                                   poem      topic  \n",
       "0     Morning, evening, noon and night,\\n``Praise Go...      angel  \n",
       "1     It is beautiful wish\\nThat finishes\\nWith welf...     animal  \n",
       "2     Went down to the garden\\nand see a Caterppilar...  butterfly  \n",
       "3     Hear someone giggle,\\nPeer out, there is no on...  childhood  \n",
       "4     Can you enjoy a meal,\\nIf it ain't your Cat.\\n...     animal  \n",
       "...                                                 ...        ...  \n",
       "1478  298\\nAlone, I cannot be—\\nFor Hosts—do visit m...      alone  \n",
       "1479  This starry dawn – the wise men yet afar –\\nth...      birth  \n",
       "1480  Being glad is simple\\nand sometimes glad is gr...   children  \n",
       "1481  hello world\\nyou may not know me\\nbut I know y...       baby  \n",
       "1482  When Mother was a young girl,\\nwhat would she ...      beach  \n",
       "\n",
       "[1483 rows x 3 columns]"
      ]
     },
     "execution_count": 7,
     "metadata": {},
     "output_type": "execute_result"
    }
   ],
   "source": [
    "df = pd.read_csv(\"train_dataset.csv\")\n",
    "df"
   ]
  },
  {
   "cell_type": "code",
   "execution_count": 8,
   "id": "e2d174db-b2b5-4817-8feb-d4b912fd04fd",
   "metadata": {},
   "outputs": [],
   "source": [
    "def encode_labels(label_set):\n",
    "    label_encoder = preprocessing.LabelEncoder()\n",
    "    input_classes = label_set\n",
    "    label_encoder.fit(input_classes)\n",
    "    int_labels = label_encoder.transform(input_classes)\n",
    "    return int_labels"
   ]
  },
  {
   "cell_type": "code",
   "execution_count": 9,
   "id": "4cf9c757-28a9-4bba-aa06-5c8c605d519a",
   "metadata": {},
   "outputs": [],
   "source": [
    "tokenizer = GPT2Tokenizer.from_pretrained('distilgpt2')\n",
    "special_tokens_dict = {\n",
    "    'bos_token': '<BOS>', \n",
    "    'eos_token': '<EOS>', \n",
    "    'pad_token': '<PAD>'}\n",
    "num_added_tokens = tokenizer.add_special_tokens(special_tokens_dict)"
   ]
  },
  {
   "cell_type": "code",
   "execution_count": 10,
   "id": "68bb7df5-04ae-4cc1-9302-42ef1f53d984",
   "metadata": {},
   "outputs": [],
   "source": [
    "class GPT2_Dataset(Dataset):\n",
    "    def __init__(self, file, tokenizer, max_length = max_len):\n",
    "        self.file = file\n",
    "        self.tokenizer = tokenizer\n",
    "        \n",
    "        self.data = pd.read_csv(file)\n",
    "        self.poems = [poem for poem in self.data['poem'].tolist() if len(poem) <= 300]\n",
    "        self.labels = self.data['topic'] if 'topic' in self.data else None\n",
    "\n",
    "        self.input_ids = []\n",
    "        self.attention_masks = []\n",
    "        for poem in self.poems:\n",
    "            encodings_dict = tokenizer('<BOS>' + poem + '<EOS>',\n",
    "                                         truncation=True,\n",
    "                                         max_length=max_length,\n",
    "                                         padding='max_length')\n",
    "            self.input_ids.append(torch.tensor(encodings_dict['input_ids']))\n",
    "            self.attention_masks.append(torch.tensor(encodings_dict['attention_mask']))\n",
    "\n",
    "        self.int_labels = encode_labels(self.labels)\n",
    "        \n",
    "    def __len__(self):\n",
    "         return len(self.input_ids)\n",
    "    \n",
    "    def __getitem__(self, idx):\n",
    "        return self.input_ids[idx], self.attention_masks[idx], self.int_labels[idx]"
   ]
  },
  {
   "cell_type": "code",
   "execution_count": 11,
   "id": "3a0a3566-4e14-4bf7-b4cc-e1041d5bcc9c",
   "metadata": {},
   "outputs": [],
   "source": [
    "train_dataset = GPT2_Dataset(\"train_dataset.csv\", tokenizer=tokenizer)\n",
    "test_dataset = GPT2_Dataset(\"test_dataset.csv\", tokenizer=tokenizer)\n",
    "\n",
    "train_dataloader = DataLoader(train_dataset, batch_size=batch_size, shuffle=True)\n",
    "test_dataloader = DataLoader(test_dataset, batch_size=batch_size, shuffle=False)\n",
    "\n",
    "#dataloader = DataLoader(topics_dataset, sampler=RandomSampler(topics_dataset), batch_size=batch_size)"
   ]
  },
  {
   "cell_type": "code",
   "execution_count": 12,
   "id": "a801c44f-f37f-417d-82f7-ffe587733988",
   "metadata": {},
   "outputs": [
    {
     "name": "stdout",
     "output_type": "stream",
     "text": [
      "pad_index = 50259\n",
      "58\n",
      "[tensor([[50257,    67,  2265,  ..., 50259, 50259, 50259],\n",
      "        [50257,  2514,   307,  ..., 50259, 50259, 50259],\n",
      "        [50257, 39079,   510,  ..., 50259, 50259, 50259],\n",
      "        [50257, 48787,   262,  ..., 50259, 50259, 50259]]), tensor([[1, 1, 1,  ..., 0, 0, 0],\n",
      "        [1, 1, 1,  ..., 0, 0, 0],\n",
      "        [1, 1, 1,  ..., 0, 0, 0],\n",
      "        [1, 1, 1,  ..., 0, 0, 0]]), tensor([ 7,  4,  9, 18])]\n"
     ]
    }
   ],
   "source": [
    "print('pad_index =', tokenizer.pad_token_id)\n",
    "for i, batch in enumerate(train_dataloader):\n",
    "    print(len(train_dataloader))\n",
    "    input_ids = batch[0]\n",
    "    attention_mask = batch[1]\n",
    "    labels = batch[2]\n",
    "    print(batch)\n",
    "    break"
   ]
  },
  {
   "cell_type": "code",
   "execution_count": 13,
   "id": "ae8aa39c-55aa-4cda-a7e4-34289a466ed3",
   "metadata": {},
   "outputs": [
    {
     "data": {
      "text/plain": [
       "229"
      ]
     },
     "execution_count": 13,
     "metadata": {},
     "output_type": "execute_result"
    }
   ],
   "source": [
    "#for poem in topics_dataset.poems:\n",
    "#   print(len(poem))\n",
    "len(train_dataset)"
   ]
  },
  {
   "cell_type": "code",
   "execution_count": 14,
   "id": "e63690d1-e7e8-4ec0-a1b9-d67e2a4a27b6",
   "metadata": {},
   "outputs": [],
   "source": [
    "model = GPT2LMHeadModel.from_pretrained('gpt2')\n",
    "model = model.to(device)"
   ]
  },
  {
   "cell_type": "code",
   "execution_count": 15,
   "id": "8ecb0510-aba6-4c4b-b786-a1813eee2415",
   "metadata": {},
   "outputs": [
    {
     "data": {
      "text/plain": [
       "Embedding(50260, 768)"
      ]
     },
     "execution_count": 15,
     "metadata": {},
     "output_type": "execute_result"
    }
   ],
   "source": [
    "configuration = GPT2Config(vocab_size=len(tokenizer)).from_pretrained('gpt2', output_hidden_states=True)\n",
    "poem_model = GPT2LMHeadModel.from_pretrained('gpt2', config=configuration)\n",
    "poem_model.resize_token_embeddings(len(tokenizer))"
   ]
  },
  {
   "cell_type": "code",
   "execution_count": 16,
   "id": "d5bd5528-e6eb-4f24-9694-0f111c8b8d6c",
   "metadata": {},
   "outputs": [],
   "source": [
    "optimizer = AdamW(poem_model.parameters(), lr=learning_rate, eps=eps)"
   ]
  },
  {
   "cell_type": "code",
   "execution_count": 17,
   "id": "bb3130eb-29cf-47ce-bd9a-0b0ec9602407",
   "metadata": {},
   "outputs": [],
   "source": [
    "scheduler = torch.optim.lr_scheduler.StepLR(optimizer, step_size=1, gamma=0.9)"
   ]
  },
  {
   "cell_type": "code",
   "execution_count": 18,
   "id": "907cbdb1-c8d6-414b-a3fe-d747d76724f8",
   "metadata": {},
   "outputs": [],
   "source": [
    "warmup_steps = 50\n",
    "total_steps = len(train_dataloader) * epochs\n",
    "scheduler = get_linear_schedule_with_warmup(optimizer,\n",
    "                                            num_warmup_steps=warmup_steps,\n",
    "                                            num_training_steps=total_steps)"
   ]
  },
  {
   "cell_type": "code",
   "execution_count": 19,
   "id": "0804453c-ff62-4f3a-a3ed-5ff80d013928",
   "metadata": {},
   "outputs": [
    {
     "data": {
      "text/plain": [
       "[\"butterfly\\n\\nChrysler's Jet is an upmarket car from a small, locally owned company that's already producing pretty good cars:\"]"
      ]
     },
     "execution_count": 19,
     "metadata": {},
     "output_type": "execute_result"
    }
   ],
   "source": [
    "#before training\n",
    "if tokenizer.pad_token is None:\n",
    "           tokenizer.pad_token = tokenizer.eos_token\n",
    "raw_model =  GPT2LMHeadModel.from_pretrained('gpt2')\n",
    "prompt = \"butterfly\"\n",
    "input_ids = tokenizer(prompt, return_tensors=\"pt\").input_ids\n",
    "outputs = raw_model.generate(input_ids, pad_token_id=tokenizer.pad_token_id, do_sample=True, max_length=30)\n",
    "tokenizer.batch_decode(outputs, skip_special_tokens=True)"
   ]
  },
  {
   "cell_type": "code",
   "execution_count": 20,
   "id": "fd2babcb-f0f2-42df-b9e7-30aba0934c86",
   "metadata": {
    "scrolled": true
   },
   "outputs": [
    {
     "name": "stdout",
     "output_type": "stream",
     "text": [
      "Epoch 1 of 40\n",
      "Epoch 2 of 40\n",
      "Epoch 3 of 40\n",
      "Epoch 4 of 40\n",
      "Epoch 5 of 40\n",
      "Epoch 6 of 40\n",
      "Epoch 7 of 40\n",
      "Epoch 8 of 40\n",
      "Epoch 9 of 40\n",
      "Epoch 10 of 40\n",
      "Epoch 11 of 40\n",
      "Epoch 12 of 40\n",
      "Epoch 13 of 40\n",
      "Epoch 14 of 40\n",
      "Epoch 15 of 40\n",
      "Epoch 16 of 40\n",
      "Epoch 17 of 40\n",
      "Epoch 18 of 40\n",
      "Epoch 19 of 40\n",
      "Epoch 20 of 40\n",
      "Epoch 21 of 40\n",
      "Epoch 22 of 40\n",
      "Epoch 23 of 40\n",
      "Epoch 24 of 40\n",
      "Epoch 25 of 40\n",
      "Epoch 26 of 40\n",
      "Epoch 27 of 40\n",
      "Epoch 28 of 40\n",
      "Epoch 29 of 40\n",
      "Epoch 30 of 40\n",
      "Epoch 31 of 40\n",
      "Epoch 32 of 40\n",
      "Epoch 33 of 40\n",
      "Epoch 34 of 40\n",
      "Epoch 35 of 40\n",
      "Epoch 36 of 40\n",
      "Epoch 37 of 40\n",
      "Epoch 38 of 40\n",
      "Epoch 39 of 40\n",
      "Epoch 40 of 40\n"
     ]
    }
   ],
   "source": [
    "model = poem_model.to(device)\n",
    "\n",
    "#model = nn.DataParallel(model)\n",
    "\n",
    "for epoch in range(epochs):\n",
    "    print(f'Epoch {epoch + 1} of {epochs}')\n",
    "    total_loss = 0\n",
    "    model.train()\n",
    "    for i, batch in enumerate(train_dataloader): \n",
    "        input_ids = batch[0].to(device)\n",
    "        attention_mask = batch[1].to(device)\n",
    "        labels = batch[2].to(device)\n",
    "        \n",
    "        model.zero_grad()   \n",
    "        \n",
    "        outputs = model(input_ids, \n",
    "                        attention_mask=attention_mask,\n",
    "                        token_type_ids=None)\n",
    "        #print(outputs[0])\n",
    "        loss = outputs[0]\n",
    "        mean_loss = torch.mean(loss)\n",
    "        #print(f\"mean loss: {mean_loss}\")\n",
    "        batch_loss = loss.detach().cpu().numpy()\n",
    "        total_loss += batch_loss\n",
    "        \n",
    "        loss.sum().backward()\n",
    "        optimizer.step()\n",
    "        scheduler.step()\n",
    "        \n",
    "        optimizer.zero_grad()"
   ]
  },
  {
   "cell_type": "code",
   "execution_count": 21,
   "id": "9719bfea-6c35-4318-9b39-d874ed465d15",
   "metadata": {},
   "outputs": [
    {
     "name": "stderr",
     "output_type": "stream",
     "text": [
      "/usr/local/lib/python3.11/site-packages/transformers/generation/utils.py:1270: UserWarning: You have modified the pretrained model configuration to control generation. This is a deprecated strategy to control generation and will be removed soon, in a future version. Please use a generation configuration file (see https://huggingface.co/docs/transformers/main_classes/text_generation )\n",
      "  warnings.warn(\n"
     ]
    },
    {
     "data": {
      "text/plain": [
       "['children']"
      ]
     },
     "execution_count": 21,
     "metadata": {},
     "output_type": "execute_result"
    }
   ],
   "source": [
    "#after fine-tuning\n",
    "model.eval()\n",
    "prompt = \"children\"\n",
    "if tokenizer.pad_token is None:\n",
    "           tokenizer.pad_token = tokenizer.eos_token\n",
    "\n",
    "input_ids = tokenizer(prompt, return_tensors=\"pt\").input_ids\n",
    "outputs = model.generate(input_ids.to(device), pad_token_id=tokenizer.pad_token_id, do_sample=True, max_length=30)\n",
    "tokenizer.batch_decode(outputs, skip_special_tokens=True)"
   ]
  },
  {
   "cell_type": "code",
   "execution_count": null,
   "id": "f2fc8dc5-f212-4cd4-9aaa-0eeb5e5f0629",
   "metadata": {},
   "outputs": [],
   "source": []
  }
 ],
 "metadata": {
  "kernelspec": {
   "display_name": "Python 3 (ipykernel)",
   "language": "python",
   "name": "python3"
  },
  "language_info": {
   "codemirror_mode": {
    "name": "ipython",
    "version": 3
   },
   "file_extension": ".py",
   "mimetype": "text/x-python",
   "name": "python",
   "nbconvert_exporter": "python",
   "pygments_lexer": "ipython3",
   "version": "3.11.6"
  }
 },
 "nbformat": 4,
 "nbformat_minor": 5
}
